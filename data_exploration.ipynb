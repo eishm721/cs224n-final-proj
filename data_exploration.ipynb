{
  "nbformat": 4,
  "nbformat_minor": 0,
  "metadata": {
    "colab": {
      "name": "data exploration.ipynb",
      "provenance": [],
      "collapsed_sections": []
    },
    "kernelspec": {
      "name": "python3",
      "display_name": "Python 3"
    },
    "language_info": {
      "name": "python"
    }
  },
  "cells": [
    {
      "cell_type": "code",
      "source": [
        "import pandas as pd\n",
        "import numpy as np"
      ],
      "metadata": {
        "id": "dezAOLbR3JiH"
      },
      "execution_count": null,
      "outputs": []
    },
    {
      "cell_type": "code",
      "execution_count": null,
      "metadata": {
        "id": "-F-gusKP1PYC"
      },
      "outputs": [],
      "source": [
        "df = pd.read_csv('https://jacobdanovitch.blob.core.windows.net/datasets/twtc.csv')\n"
      ]
    },
    {
      "cell_type": "code",
      "source": [
        "df = df.drop(['name', 'key_mlbam', 'key_fangraphs', 'age', 'year', 'primary_position', 'eta', 'Arm', 'report', 'Changeup', 'Control', 'Curveball', 'Cutter', 'Fastball', 'Field', 'Hit', 'Power', 'Run', 'Slider', 'Splitter', 'source', 'birthdate', 'mlb_played_first', 'debut_age', 'report'], axis=1)\n",
        "df.head()"
      ],
      "metadata": {
        "colab": {
          "base_uri": "https://localhost:8080/",
          "height": 204
        },
        "id": "WSLYetej5NER",
        "outputId": "975e6b41-4aec-4636-b176-faad81c66b0f"
      },
      "execution_count": null,
      "outputs": [
        {
          "output_type": "execute_result",
          "data": {
            "text/plain": [
              "   label                                               text\n",
              "0      0  PERSON is a Level 1 sex offender and wouldn't ...\n",
              "1      0  The way teams value PERSON depends on whether ...\n",
              "2     -1  PERSON PERSON was the headliner in the three-p...\n",
              "3     -1  PERSON made headlines for all the wrong reason...\n",
              "4      1   The ORGANIZATION have acquired PERSON twice, ..."
            ],
            "text/html": [
              "\n",
              "  <div id=\"df-f760d853-798a-4210-8f24-189869c70fb8\">\n",
              "    <div class=\"colab-df-container\">\n",
              "      <div>\n",
              "<style scoped>\n",
              "    .dataframe tbody tr th:only-of-type {\n",
              "        vertical-align: middle;\n",
              "    }\n",
              "\n",
              "    .dataframe tbody tr th {\n",
              "        vertical-align: top;\n",
              "    }\n",
              "\n",
              "    .dataframe thead th {\n",
              "        text-align: right;\n",
              "    }\n",
              "</style>\n",
              "<table border=\"1\" class=\"dataframe\">\n",
              "  <thead>\n",
              "    <tr style=\"text-align: right;\">\n",
              "      <th></th>\n",
              "      <th>label</th>\n",
              "      <th>text</th>\n",
              "    </tr>\n",
              "  </thead>\n",
              "  <tbody>\n",
              "    <tr>\n",
              "      <th>0</th>\n",
              "      <td>0</td>\n",
              "      <td>PERSON is a Level 1 sex offender and wouldn't ...</td>\n",
              "    </tr>\n",
              "    <tr>\n",
              "      <th>1</th>\n",
              "      <td>0</td>\n",
              "      <td>The way teams value PERSON depends on whether ...</td>\n",
              "    </tr>\n",
              "    <tr>\n",
              "      <th>2</th>\n",
              "      <td>-1</td>\n",
              "      <td>PERSON PERSON was the headliner in the three-p...</td>\n",
              "    </tr>\n",
              "    <tr>\n",
              "      <th>3</th>\n",
              "      <td>-1</td>\n",
              "      <td>PERSON made headlines for all the wrong reason...</td>\n",
              "    </tr>\n",
              "    <tr>\n",
              "      <th>4</th>\n",
              "      <td>1</td>\n",
              "      <td>The ORGANIZATION have acquired PERSON twice, ...</td>\n",
              "    </tr>\n",
              "  </tbody>\n",
              "</table>\n",
              "</div>\n",
              "      <button class=\"colab-df-convert\" onclick=\"convertToInteractive('df-f760d853-798a-4210-8f24-189869c70fb8')\"\n",
              "              title=\"Convert this dataframe to an interactive table.\"\n",
              "              style=\"display:none;\">\n",
              "        \n",
              "  <svg xmlns=\"http://www.w3.org/2000/svg\" height=\"24px\"viewBox=\"0 0 24 24\"\n",
              "       width=\"24px\">\n",
              "    <path d=\"M0 0h24v24H0V0z\" fill=\"none\"/>\n",
              "    <path d=\"M18.56 5.44l.94 2.06.94-2.06 2.06-.94-2.06-.94-.94-2.06-.94 2.06-2.06.94zm-11 1L8.5 8.5l.94-2.06 2.06-.94-2.06-.94L8.5 2.5l-.94 2.06-2.06.94zm10 10l.94 2.06.94-2.06 2.06-.94-2.06-.94-.94-2.06-.94 2.06-2.06.94z\"/><path d=\"M17.41 7.96l-1.37-1.37c-.4-.4-.92-.59-1.43-.59-.52 0-1.04.2-1.43.59L10.3 9.45l-7.72 7.72c-.78.78-.78 2.05 0 2.83L4 21.41c.39.39.9.59 1.41.59.51 0 1.02-.2 1.41-.59l7.78-7.78 2.81-2.81c.8-.78.8-2.07 0-2.86zM5.41 20L4 18.59l7.72-7.72 1.47 1.35L5.41 20z\"/>\n",
              "  </svg>\n",
              "      </button>\n",
              "      \n",
              "  <style>\n",
              "    .colab-df-container {\n",
              "      display:flex;\n",
              "      flex-wrap:wrap;\n",
              "      gap: 12px;\n",
              "    }\n",
              "\n",
              "    .colab-df-convert {\n",
              "      background-color: #E8F0FE;\n",
              "      border: none;\n",
              "      border-radius: 50%;\n",
              "      cursor: pointer;\n",
              "      display: none;\n",
              "      fill: #1967D2;\n",
              "      height: 32px;\n",
              "      padding: 0 0 0 0;\n",
              "      width: 32px;\n",
              "    }\n",
              "\n",
              "    .colab-df-convert:hover {\n",
              "      background-color: #E2EBFA;\n",
              "      box-shadow: 0px 1px 2px rgba(60, 64, 67, 0.3), 0px 1px 3px 1px rgba(60, 64, 67, 0.15);\n",
              "      fill: #174EA6;\n",
              "    }\n",
              "\n",
              "    [theme=dark] .colab-df-convert {\n",
              "      background-color: #3B4455;\n",
              "      fill: #D2E3FC;\n",
              "    }\n",
              "\n",
              "    [theme=dark] .colab-df-convert:hover {\n",
              "      background-color: #434B5C;\n",
              "      box-shadow: 0px 1px 3px 1px rgba(0, 0, 0, 0.15);\n",
              "      filter: drop-shadow(0px 1px 2px rgba(0, 0, 0, 0.3));\n",
              "      fill: #FFFFFF;\n",
              "    }\n",
              "  </style>\n",
              "\n",
              "      <script>\n",
              "        const buttonEl =\n",
              "          document.querySelector('#df-f760d853-798a-4210-8f24-189869c70fb8 button.colab-df-convert');\n",
              "        buttonEl.style.display =\n",
              "          google.colab.kernel.accessAllowed ? 'block' : 'none';\n",
              "\n",
              "        async function convertToInteractive(key) {\n",
              "          const element = document.querySelector('#df-f760d853-798a-4210-8f24-189869c70fb8');\n",
              "          const dataTable =\n",
              "            await google.colab.kernel.invokeFunction('convertToInteractive',\n",
              "                                                     [key], {});\n",
              "          if (!dataTable) return;\n",
              "\n",
              "          const docLinkHtml = 'Like what you see? Visit the ' +\n",
              "            '<a target=\"_blank\" href=https://colab.research.google.com/notebooks/data_table.ipynb>data table notebook</a>'\n",
              "            + ' to learn more about interactive tables.';\n",
              "          element.innerHTML = '';\n",
              "          dataTable['output_type'] = 'display_data';\n",
              "          await google.colab.output.renderOutput(dataTable, element);\n",
              "          const docLink = document.createElement('div');\n",
              "          docLink.innerHTML = docLinkHtml;\n",
              "          element.appendChild(docLink);\n",
              "        }\n",
              "      </script>\n",
              "    </div>\n",
              "  </div>\n",
              "  "
            ]
          },
          "metadata": {},
          "execution_count": 3
        }
      ]
    },
    {
      "cell_type": "code",
      "source": [
        "df = df.drop(df[df['label'] == -1].index)"
      ],
      "metadata": {
        "id": "CxE0aKde6LqB"
      },
      "execution_count": null,
      "outputs": []
    },
    {
      "cell_type": "code",
      "source": [
        "dfpos = df[df['label'] == 1]\n",
        "dfneg = df[df['label'] == 0]\n"
      ],
      "metadata": {
        "id": "T2UPn1XL_TZ8"
      },
      "execution_count": null,
      "outputs": []
    },
    {
      "cell_type": "code",
      "source": [
        "from collections import Counter\n",
        "countpos = Counter(dfpos[\"text\"].tolist())\n",
        "countneg = Counter(dfneg[\"text\"].tolist())"
      ],
      "metadata": {
        "id": "P77PndjE_ejm"
      },
      "execution_count": null,
      "outputs": []
    },
    {
      "cell_type": "code",
      "source": [
        "print(dict(list(countpos.items())[:3]))\n"
      ],
      "metadata": {
        "colab": {
          "base_uri": "https://localhost:8080/"
        },
        "id": "zL2A44Sb_sc3",
        "outputId": "a4199d18-c233-49af-ed72-03f1f42b552b"
      },
      "execution_count": null,
      "outputs": [
        {
          "output_type": "stream",
          "name": "stdout",
          "text": [
            "{\" The ORGANIZATION have acquired PERSON twice, first when they drafted him in 2010 and then again in March 2013 in the ORGANIZATION deal. In between, PERSON was part of the package they sent to the A's for PERSON. After a disappointing year with the A's, PERSON broke out in his return to the ORGANIZATION, reaching Double-A Harrisburg and pitching in the 2013 ORGANIZATION.  PERSON relies on his fastball, which sits in the mid-90s and reaches 98 mph. He commands the pitch well and isn't afraid to come after hitters with it. Though both his changeup and curveball aren't as advanced as his fastball, both have the potential to be Major League-average offerings.  If PERSON can hone his offspeed pitches, he has the potential to be the latest homegrown member of the ORGANIZATION rotation.\": 1, \"Signed for an above-slot $2 million as a ORGANIZATION fourth-round pick in 2010, PERSON was shipped to the ORGANIZATION as part of the ORGANIZATION trade after the 2011 season, only to return to GPE in a three-team deal for PERSON the following year. A strong start at Triple-A last season led to an unexpected callup in late April for the right-hander, although he made only one start (his big league debut) and a pair of relief appearances before returning to the Minors.PERSON works in the low 90s with his fastball, but he can reach back for a few more ticks as needed, and his clean arm action and simple, repeatable delivery allow him to locate the pitch to both sides of the plate. His changeup is his best secondary offering and plays nicely off his fastball, and he also demonstrates feel for an average slider. PERSON's curveball has improved as he's climbed the ladder, but it is still below average and represents a distant fourth pitch.PERSON's deep arsenal and strike-throwing ability gives him a solid floor as a back-end starter, but he's now behind several other young arms on the ORGANIZATION' depth chart.\": 1, \" It often takes time for those high-ceilinged, hard-throwing high schoolers to develop into pitchers. For some, it takes longer than others and while GPE fits more into the latter category, there's still a lot to like about the projectable right-hander. Clearly, the ORGANIZATION agree as they re-acquired the player they initially drafted during this past offseason after sending him to the A's in the December 2011 deal that brought PERSON to GPE. He still has the big arm that made him a big-time prospect in the 2010 Draft, delivering fastballs that touch 96 mph with good movement. His curve can be a bit slurvy, but has the chance to be at least an average power breaking ball. He has good feel for a fading changeup. There is still plenty of time for him to develop his secondary stuff and overall command and become the frontline starter many think he has the potential to become.\": 1}\n"
          ]
        }
      ]
    },
    {
      "cell_type": "code",
      "source": [
        "posstr = ' '.join(dfpos[\"text\"].tolist())\n",
        "negstr = ' '.join(dfneg[\"text\"].tolist())"
      ],
      "metadata": {
        "id": "ghZfqMsFE_gp"
      },
      "execution_count": null,
      "outputs": []
    },
    {
      "cell_type": "code",
      "source": [
        "pos_cnt = Counter(posstr.split()).most_common()\n",
        "neg_cnt = Counter(negstr.split()).most_common()"
      ],
      "metadata": {
        "id": "XeZA_LJgFdpE"
      },
      "execution_count": null,
      "outputs": []
    },
    {
      "cell_type": "code",
      "source": [
        "pos_cnt_dict = dict(pos_cnt)\n",
        "neg_cnt_dict = dict(neg_cnt)"
      ],
      "metadata": {
        "id": "smuAYG7CKYA2"
      },
      "execution_count": null,
      "outputs": []
    },
    {
      "cell_type": "code",
      "source": [
        "for key, value in pos_cnt_dict.items():\n",
        "  pos_cnt_dict[key] = value/len(pos_cnt_dict)"
      ],
      "metadata": {
        "id": "OOAG2gxARKZz"
      },
      "execution_count": null,
      "outputs": []
    },
    {
      "cell_type": "code",
      "source": [
        "for key, value in neg_cnt_dict.items():\n",
        "  neg_cnt_dict[key] = value/len(neg_cnt_dict)"
      ],
      "metadata": {
        "id": "Mczm_UxtR5Xr"
      },
      "execution_count": null,
      "outputs": []
    },
    {
      "cell_type": "code",
      "source": [
        "pos_cnt = list(pos_cnt_dict.items())\n",
        "neg_cnt = list(neg_cnt_dict.items())"
      ],
      "metadata": {
        "id": "65Exp6zaSNqb"
      },
      "execution_count": null,
      "outputs": []
    },
    {
      "cell_type": "code",
      "source": [
        "pos_cnt = pos_cnt[50:150]\n",
        "neg_cnt = neg_cnt[50:150]"
      ],
      "metadata": {
        "id": "z-33oT-COi-Y"
      },
      "execution_count": null,
      "outputs": []
    },
    {
      "cell_type": "code",
      "source": [
        "print(len(pos_cnt))"
      ],
      "metadata": {
        "colab": {
          "base_uri": "https://localhost:8080/"
        },
        "id": "gzDwdp2fUQK9",
        "outputId": "3c9dc9bf-9536-4ae2-c912-38a68aa13d28"
      },
      "execution_count": null,
      "outputs": [
        {
          "output_type": "stream",
          "name": "stdout",
          "text": [
            "100\n"
          ]
        }
      ]
    },
    {
      "cell_type": "code",
      "source": [
        "print(pos_cnt, '\\n' ,neg_cnt)"
      ],
      "metadata": {
        "colab": {
          "base_uri": "https://localhost:8080/"
        },
        "id": "Xn5uva8xGHfW",
        "outputId": "02244109-361f-43e3-d45f-8c63cd85056c"
      },
      "execution_count": null,
      "outputs": [
        {
          "output_type": "stream",
          "name": "stdout",
          "text": [
            "[('well', 0.049155844155844154), ('A', 0.04798701298701299), ('though', 0.047402597402597405), ('into', 0.04707792207792208), ('also', 0.04701298701298701), ('plus', 0.04597402597402597), ('had', 0.045909090909090906), ('season', 0.04564935064935065), ('bat', 0.04512987012987013), ('hit', 0.04435064935064935), ('still', 0.04357142857142857), ('PERSON,', 0.04285714285714286), ('one', 0.0425974025974026), ('made', 0.042272727272727274), ('second', 0.04220779220779221), ('two', 0.04214285714285714), ('best', 0.04194805194805195), ('who', 0.041623376623376625), ('ball', 0.04155844155844156), ('pro', 0.040324675324675326), (\"He's\", 0.039935064935064934), ('changeup', 0.0398051948051948), ('by', 0.03850649350649351), ('after', 0.03837662337662338), ('speed', 0.03831168831168831), ('solid', 0.0374025974025974), ('last', 0.037337662337662336), ('mph', 0.037337662337662336), ('should', 0.03701298701298701), ('which', 0.03675324675324675), ('better', 0.03675324675324675), ('this', 0.036298701298701296), ('during', 0.03558441558441559), ('third', 0.03551948051948052), ('year', 0.03441558441558441), ('much', 0.03383116883116883), ('make', 0.03363636363636364), ('league', 0.032662337662337664), ('feel', 0.03214285714285714), ('if', 0.03207792207792208), ('both', 0.032012987012987014), ('ability', 0.03188311688311688), ('just', 0.031558441558441556), ('debut', 0.03149350649350649), ('been', 0.031233766233766235), ('ORGANIZATION.', 0.03116883116883117), ('while', 0.031103896103896102), ('get', 0.03103896103896104), ('chance', 0.03064935064935065), ('three', 0.030064935064935065), ('before', 0.03), ('not', 0.02909090909090909), ('back', 0.02896103896103896), ('pitch', 0.028766233766233766), ('time', 0.028636363636363637), ('most', 0.028311688311688312), ('or', 0.028246753246753246), ('stuff', 0.02792207792207792), ('ORGANIZATION,', 0.027532467532467533), ('strong', 0.027467532467532467), ('Double-A', 0.02727272727272727), ('very', 0.02727272727272727), ('school', 0.027012987012987013), ('above-average', 0.026948051948051947), ('strength', 0.02655844155844156), ('so', 0.02655844155844156), ('slider', 0.025844155844155843), ('play', 0.025454545454545455), ('are', 0.025194805194805193), ('overall', 0.025064935064935064), ('enough', 0.025064935064935064), ('right', 0.025064935064935064), ('pick', 0.02487012987012987), ('approach', 0.02448051948051948), ('then', 0.024025974025974027), ('top', 0.023896103896103898), ('swing', 0.023766233766233765), ('raw', 0.023571428571428573), ('might', 0.023376623376623377), ('because', 0.023246753246753248), ('plate', 0.023246753246753248), ('GPE,', 0.023181818181818182), ('like', 0.022922077922077923), ('pitching', 0.022532467532467532), (\"doesn't\", 0.022272727272727274), ('full', 0.022272727272727274), ('where', 0.022272727272727274), ('command', 0.022207792207792208), (\"he'll\", 0.02214285714285714), ('2014', 0.021883116883116883), ('strike', 0.021623376623376624), ('pitches', 0.021558441558441558), ('base', 0.02142857142857143), ('advanced', 0.02116883116883117), ('potential', 0.02116883116883117), ('throws', 0.021038961038961038), ('they', 0.020974025974025975), ('2015', 0.020844155844155846), ('scouts', 0.02077922077922078), ('off', 0.020714285714285713)] \n",
            " [('when', 0.07629468635239452), ('though', 0.07307202278348197), ('into', 0.07153563666341903), ('who', 0.07033650603312598), ('pro', 0.06928726673161957), ('big', 0.06850033725548978), ('had', 0.06808813610132654), ('PERSON,', 0.06782582627594994), ('well', 0.06730120662519673), (\"He's\", 0.06535261935097054), ('two', 0.06437832571385746), ('plus', 0.06404107022408753), ('all', 0.06280446676159784), ('hit', 0.06235479277523795), ('A', 0.062167428614254665), ('one', 0.06156786329910815), ('changeup', 0.05857003672337555), ('ball', 0.057708161582852434), ('during', 0.0570336506033126), ('best', 0.056434085288166076), ('after', 0.05583451997301956), ('been', 0.05583451997301956), ('season', 0.0555347373154463), ('bat', 0.05534737315446302), ('still', 0.055234954657873044), ('solid', 0.05486022633590647), ('which', 0.05471033500711984), ('by', 0.05429813385295661), ('last', 0.05422318818856329), ('better', 0.05384845986659672), ('if', 0.052611856404107024), ('speed', 0.051262834445027355), ('second', 0.050775687626470806), ('year', 0.050700741962077495), ('not', 0.05062579629768418), ('are', 0.05010117664693098), ('three', 0.04976392115716106), ('feel', 0.04961402982837443), ('much', 0.04953908416398111), ('get', 0.04867720902345799), ('or', 0.048227535037098104), ('because', 0.048077643708311475), ('school', 0.047927752379524846), ('slider', 0.04729071423218167), ('both', 0.04699093157460841), ('stuff', 0.046953458742411754), ('so', 0.046878513078018436), ('while', 0.046653676084838495), ('college', 0.046241474930675264), ('just', 0.045454545454545456), ('chance', 0.0451547627969722), ('make', 0.044967398635988906), ('scouts', 0.04436783332084239), ('pitch', 0.04410552349546579), ('should', 0.043993104998875814), ('before', 0.043843213670089184), ('most', 0.04350595818031927), ('top', 0.04346848534812261), ('enough', 0.04331859401933598), ('third', 0.043281121187139324), ('like', 0.04309375702615604), ('GPE,', 0.042494191711009516), ('ability', 0.042419246046616205), ('strong', 0.04151989807389642), ('round', 0.04084538709435659), ('made', 0.04073296859776662), ('ORGANIZATION.', 0.040020984786030125), ('pitches', 0.039646256464063556), ('strength', 0.03953383796747358), ('ORGANIZATION,', 0.03927152814209698), ('back', 0.03900921831672038), (\"doesn't\", 0.038746908491343775), ('raw', 0.0381098703440006), (\"he'll\", 0.03773514202203403), ('might', 0.03766019635764071), ('play', 0.03721052237128082), ('pick', 0.03623622873416773), ('command', 0.03537435359364461), ('starter', 0.03518698943266132), ('swing', 0.03507457093607135), ('where', 0.0343251142921382), ('breaking', 0.0343251142921382), ('very', 0.03410027729895825), ('about', 0.03395038597017162), ('time', 0.033500711983811736), ('full', 0.03338829348722176), ('down', 0.03335082065502511), ('league', 0.03331334782282845), ('right', 0.03320092932623848), ('pitching', 0.03297609233305853), ('strike', 0.0328262010042719), ('plate', 0.032039271528142094), ('curveball', 0.031589597541782206), ('velocity', 0.03128981488420895), ('years', 0.031064977891029005), ('over', 0.031027505058832346), ('player', 0.031027505058832346), ('2016', 0.03099003222663569), ('potential', 0.03084014089784906), ('off', 0.03057783107247246)]\n"
          ]
        }
      ]
    },
    {
      "cell_type": "code",
      "source": [
        "pos_labels = []\n",
        "neg_labels = []\n",
        "labels = []\n",
        "x = []\n",
        "y = []\n",
        "for i in range(50):\n",
        "  labels.append(pos_cnt[i][0])\n",
        "  x.append(pos_cnt[i][1])\n",
        "  y.append(neg_cnt_dict[pos_cnt[i][0]])\n",
        "\n",
        "for i in range(50):\n",
        "  labels.append(neg_cnt[i][0])\n",
        "  x.append(pos_cnt_dict[neg_cnt[i][0]])\n",
        "  y.append(neg_cnt[i][1])"
      ],
      "metadata": {
        "id": "hjdm6Fl8HkW7"
      },
      "execution_count": null,
      "outputs": []
    },
    {
      "cell_type": "code",
      "source": [
        "print(len(x))\n",
        "print(len(y))"
      ],
      "metadata": {
        "colab": {
          "base_uri": "https://localhost:8080/"
        },
        "id": "ejUeNnvAM0uc",
        "outputId": "81228fa1-ca3e-4311-a4ff-c333b64e47cb"
      },
      "execution_count": null,
      "outputs": [
        {
          "output_type": "stream",
          "name": "stdout",
          "text": [
            "100\n",
            "100\n"
          ]
        }
      ]
    },
    {
      "cell_type": "code",
      "source": [
        "import numpy as np\n",
        "import matplotlib.pyplot as plt\n",
        "\n",
        "plt.rc('font', size=8)\n",
        "\n",
        "plt.scatter(x, y, c ='#B83A4B', alpha=0.7)\n",
        "plt.xlabel(\"Frequency in Positive Samples\")\n",
        "plt.ylabel(\"Frequency in Negative Samples\")\n",
        "\n",
        "for i, txt in enumerate(labels):\n",
        "    plt.annotate(txt, (x[i], y[i]))\n",
        "\n",
        "plt.savefig('scatterplot2.png', dpi=5000)\n"
      ],
      "metadata": {
        "colab": {
          "base_uri": "https://localhost:8080/",
          "height": 277
        },
        "id": "9EZrui0xGnmX",
        "outputId": "ba848144-9563-435d-cec7-796dcd878ef1"
      },
      "execution_count": null,
      "outputs": [
        {
          "output_type": "display_data",
          "data": {
            "text/plain": [
              "<Figure size 432x288 with 1 Axes>"
            ],
            "image/png": "[encoded data removed]"
          },
          "metadata": {
            "needs_background": "light"
          }
        }
      ]
    },
    {
      "cell_type": "markdown",
      "source": [
        "ROC"
      ],
      "metadata": {
        "id": "al1uNex6aIyu"
      }
    },
    {
      "cell_type": "code",
      "source": [
        "# calculate roc curves\n",
        "ns_fpr, ns_tpr, _ = roc_curve(testy, ns_probs)\n",
        "lr_fpr, lr_tpr, _ = roc_curve(testy, lr_probs)\n",
        "# plot the roc curve for the model\n",
        "plt.plot(ns_fpr, ns_tpr, linestyle='--', label='No Skill')\n",
        "plt.plot(lr_fpr, lr_tpr, marker='.', label='Logistic')\n",
        "# axis labels\n",
        "plt.xlabel('False Positive Rate')\n",
        "plt.ylabel('True Positive Rate')\n",
        "# show the legend\n",
        "plt.legend()\n",
        "# show the plot\n",
        "plt.show()"
      ],
      "metadata": {
        "id": "VhyiMjG7aJtb"
      },
      "execution_count": null,
      "outputs": []
    }
  ]
}